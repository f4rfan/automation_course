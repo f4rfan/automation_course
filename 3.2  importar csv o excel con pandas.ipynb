{
 "cells": [
  {
   "cell_type": "code",
   "execution_count": 1,
   "id": "76e9ea84-3805-4608-b6ae-2abbb8441375",
   "metadata": {},
   "outputs": [],
   "source": [
    "import pandas as pd"
   ]
  },
  {
   "cell_type": "markdown",
   "id": "2c6649fa-50fa-4780-ab13-624421abe45e",
   "metadata": {},
   "source": [
    "## Importar CSV"
   ]
  },
  {
   "cell_type": "code",
   "execution_count": 10,
   "id": "6aed8845-12c4-4cfe-a219-e1412a216a5a",
   "metadata": {},
   "outputs": [],
   "source": [
    "df = pd.read_csv(r'../Datasets+IPA/iris_dataset.csv', delimiter=\",\",encoding=\"ISO-8859-1\",index_col=0,header=0)"
   ]
  },
  {
   "cell_type": "code",
   "execution_count": 11,
   "id": "1dd87319-639f-462a-aaf9-818305d900d3",
   "metadata": {},
   "outputs": [
    {
     "data": {
      "text/html": [
       "<div>\n",
       "<style scoped>\n",
       "    .dataframe tbody tr th:only-of-type {\n",
       "        vertical-align: middle;\n",
       "    }\n",
       "\n",
       "    .dataframe tbody tr th {\n",
       "        vertical-align: top;\n",
       "    }\n",
       "\n",
       "    .dataframe thead th {\n",
       "        text-align: right;\n",
       "    }\n",
       "</style>\n",
       "<table border=\"1\" class=\"dataframe\">\n",
       "  <thead>\n",
       "    <tr style=\"text-align: right;\">\n",
       "      <th></th>\n",
       "      <th>anchura_sépalo</th>\n",
       "      <th>longitud_pétalo</th>\n",
       "      <th>anchura_pétalo</th>\n",
       "      <th>clase</th>\n",
       "    </tr>\n",
       "    <tr>\n",
       "      <th>longitud_sépalo</th>\n",
       "      <th></th>\n",
       "      <th></th>\n",
       "      <th></th>\n",
       "      <th></th>\n",
       "    </tr>\n",
       "  </thead>\n",
       "  <tbody>\n",
       "    <tr>\n",
       "      <th>5.1</th>\n",
       "      <td>3.5</td>\n",
       "      <td>1.4</td>\n",
       "      <td>0.2</td>\n",
       "      <td>Iris-setosa</td>\n",
       "    </tr>\n",
       "    <tr>\n",
       "      <th>4.9</th>\n",
       "      <td>3.0</td>\n",
       "      <td>1.4</td>\n",
       "      <td>0.2</td>\n",
       "      <td>Iris-setosa</td>\n",
       "    </tr>\n",
       "    <tr>\n",
       "      <th>4.7</th>\n",
       "      <td>3.2</td>\n",
       "      <td>1.3</td>\n",
       "      <td>0.2</td>\n",
       "      <td>Iris-setosa</td>\n",
       "    </tr>\n",
       "    <tr>\n",
       "      <th>4.6</th>\n",
       "      <td>3.1</td>\n",
       "      <td>1.5</td>\n",
       "      <td>0.2</td>\n",
       "      <td>Iris-setosa</td>\n",
       "    </tr>\n",
       "    <tr>\n",
       "      <th>5.0</th>\n",
       "      <td>3.6</td>\n",
       "      <td>1.4</td>\n",
       "      <td>0.2</td>\n",
       "      <td>Iris-setosa</td>\n",
       "    </tr>\n",
       "  </tbody>\n",
       "</table>\n",
       "</div>"
      ],
      "text/plain": [
       "                  anchura_sépalo  longitud_pétalo  anchura_pétalo        clase\n",
       "longitud_sépalo                                                               \n",
       "5.1                          3.5              1.4             0.2  Iris-setosa\n",
       "4.9                          3.0              1.4             0.2  Iris-setosa\n",
       "4.7                          3.2              1.3             0.2  Iris-setosa\n",
       "4.6                          3.1              1.5             0.2  Iris-setosa\n",
       "5.0                          3.6              1.4             0.2  Iris-setosa"
      ]
     },
     "execution_count": 11,
     "metadata": {},
     "output_type": "execute_result"
    }
   ],
   "source": [
    "df.head()"
   ]
  },
  {
   "cell_type": "markdown",
   "id": "5ae02b7d-9c72-4952-b959-e36f4edf0596",
   "metadata": {},
   "source": [
    "## Importar Excel"
   ]
  },
  {
   "cell_type": "code",
   "execution_count": 12,
   "id": "bd700f40-fa83-41c5-9fc6-c982748911a7",
   "metadata": {},
   "outputs": [],
   "source": [
    "df2 = pd.read_excel(r'../Datasets+IPA/Distrito_poblacion.xlsx',sheet_name=\"Distrito_poblacion\")"
   ]
  },
  {
   "cell_type": "code",
   "execution_count": 13,
   "id": "d5733cbb-79eb-46c9-b409-fe758581cd14",
   "metadata": {},
   "outputs": [
    {
     "data": {
      "text/html": [
       "<div>\n",
       "<style scoped>\n",
       "    .dataframe tbody tr th:only-of-type {\n",
       "        vertical-align: middle;\n",
       "    }\n",
       "\n",
       "    .dataframe tbody tr th {\n",
       "        vertical-align: top;\n",
       "    }\n",
       "\n",
       "    .dataframe thead th {\n",
       "        text-align: right;\n",
       "    }\n",
       "</style>\n",
       "<table border=\"1\" class=\"dataframe\">\n",
       "  <thead>\n",
       "    <tr style=\"text-align: right;\">\n",
       "      <th></th>\n",
       "      <th>DISTRITO</th>\n",
       "      <th>Población_Distrito</th>\n",
       "    </tr>\n",
       "  </thead>\n",
       "  <tbody>\n",
       "    <tr>\n",
       "      <th>0</th>\n",
       "      <td>Arganzuela</td>\n",
       "      <td>151965</td>\n",
       "    </tr>\n",
       "    <tr>\n",
       "      <th>1</th>\n",
       "      <td>Centro</td>\n",
       "      <td>149718</td>\n",
       "    </tr>\n",
       "    <tr>\n",
       "      <th>2</th>\n",
       "      <td>Chamberí</td>\n",
       "      <td>137401</td>\n",
       "    </tr>\n",
       "    <tr>\n",
       "      <th>3</th>\n",
       "      <td>Moncloa-Aravaca</td>\n",
       "      <td>116903</td>\n",
       "    </tr>\n",
       "    <tr>\n",
       "      <th>4</th>\n",
       "      <td>Latina</td>\n",
       "      <td>233808</td>\n",
       "    </tr>\n",
       "  </tbody>\n",
       "</table>\n",
       "</div>"
      ],
      "text/plain": [
       "          DISTRITO  Población_Distrito\n",
       "0       Arganzuela              151965\n",
       "1           Centro              149718\n",
       "2         Chamberí              137401\n",
       "3  Moncloa-Aravaca              116903\n",
       "4           Latina              233808"
      ]
     },
     "execution_count": 13,
     "metadata": {},
     "output_type": "execute_result"
    }
   ],
   "source": [
    "df2.head()"
   ]
  },
  {
   "cell_type": "code",
   "execution_count": null,
   "id": "0bb3a07c-76cc-4532-9e41-e1920de5994f",
   "metadata": {},
   "outputs": [],
   "source": []
  }
 ],
 "metadata": {
  "kernelspec": {
   "display_name": "Python 3 (ipykernel)",
   "language": "python",
   "name": "python3"
  },
  "language_info": {
   "codemirror_mode": {
    "name": "ipython",
    "version": 3
   },
   "file_extension": ".py",
   "mimetype": "text/x-python",
   "name": "python",
   "nbconvert_exporter": "python",
   "pygments_lexer": "ipython3",
   "version": "3.12.7"
  }
 },
 "nbformat": 4,
 "nbformat_minor": 5
}
