{
 "cells": [
  {
   "cell_type": "markdown",
   "id": "8f44c17e-7805-4d42-be97-64737a4d1576",
   "metadata": {},
   "source": [
    "## Funciones Normales ##"
   ]
  },
  {
   "cell_type": "code",
   "execution_count": 1,
   "id": "70a5852e-75fc-4adc-b5c9-82cdf59b23ed",
   "metadata": {},
   "outputs": [],
   "source": [
    "def area_triangulo(base,altura):\n",
    "    return (base*altura)/2"
   ]
  },
  {
   "cell_type": "code",
   "execution_count": 3,
   "id": "9ce379a9-d753-4e0a-bef2-141c289c7dae",
   "metadata": {},
   "outputs": [
    {
     "data": {
      "text/plain": [
       "7.5"
      ]
     },
     "execution_count": 3,
     "metadata": {},
     "output_type": "execute_result"
    }
   ],
   "source": [
    "area_triangulo(5,3)"
   ]
  },
  {
   "cell_type": "code",
   "execution_count": null,
   "id": "48fc746e-f621-4016-905b-52c795091702",
   "metadata": {},
   "outputs": [],
   "source": []
  },
  {
   "cell_type": "code",
   "execution_count": null,
   "id": "54964189-c141-44e0-b4e3-5a5d5089625f",
   "metadata": {},
   "outputs": [],
   "source": []
  },
  {
   "cell_type": "markdown",
   "id": "9e6b4052-8055-4642-9bf4-25185bfbb115",
   "metadata": {},
   "source": [
    "## Funciones Lambda ##"
   ]
  },
  {
   "cell_type": "markdown",
   "id": "551e1698-e9dd-4538-97d4-166117d28aa6",
   "metadata": {},
   "source": [
    "Nombre_funcion = lambda arg_1, arg_2, ...: codigo_funcion"
   ]
  },
  {
   "cell_type": "code",
   "execution_count": null,
   "id": "0c208b5d-0fb5-4df0-9cc7-acd3fdd3a5cf",
   "metadata": {},
   "outputs": [],
   "source": [
    "potencia = lambda base, exponente: base**exponente"
   ]
  },
  {
   "cell_type": "code",
   "execution_count": 6,
   "id": "24e85695-b7c1-496b-b906-84bc7aef2176",
   "metadata": {},
   "outputs": [],
   "source": [
    "precios_dol = [10.82, 11.95, 14.49, 24.95]"
   ]
  },
  {
   "cell_type": "code",
   "execution_count": 9,
   "id": "299a6483-178f-4922-93c0-52b840008705",
   "metadata": {},
   "outputs": [],
   "source": [
    "conversion = map(lambda x:round(x/1.1, 2), precios_dol)"
   ]
  },
  {
   "cell_type": "code",
   "execution_count": 10,
   "id": "403e6da8-ea40-459a-bb6d-28a137fda117",
   "metadata": {},
   "outputs": [
    {
     "name": "stdout",
     "output_type": "stream",
     "text": [
      "[9.84, 10.86, 13.17, 22.68]\n"
     ]
    }
   ],
   "source": [
    "print(list(conversion))"
   ]
  },
  {
   "cell_type": "code",
   "execution_count": null,
   "id": "40017f0c-ae91-4928-8fe6-9c8eedeea2e1",
   "metadata": {},
   "outputs": [],
   "source": []
  },
  {
   "cell_type": "code",
   "execution_count": null,
   "id": "cf53aa3a-2722-4a19-9fc3-820e745e15d2",
   "metadata": {},
   "outputs": [],
   "source": []
  },
  {
   "cell_type": "markdown",
   "id": "f563c96a-3f04-4bd2-96ed-bd32a6082fef",
   "metadata": {},
   "source": [
    "## Uso de zip para crear diccionarios ##"
   ]
  },
  {
   "cell_type": "code",
   "execution_count": 2,
   "id": "1a19186c-782a-44c6-8763-256c251008fd",
   "metadata": {},
   "outputs": [],
   "source": [
    "pais = [\"España\", \"Mexico\", \"Venezuela\", \"Colombia\", \"Peru\", \"Argentina\"]"
   ]
  },
  {
   "cell_type": "code",
   "execution_count": 3,
   "id": "dc322250-cfd3-4879-905e-48d46bfb210d",
   "metadata": {},
   "outputs": [],
   "source": [
    "poblacion = [47, 128, 32, 50, 33, 45]"
   ]
  },
  {
   "cell_type": "code",
   "execution_count": 5,
   "id": "776f5fcf-31b3-4da9-931f-731cbe3aac56",
   "metadata": {},
   "outputs": [],
   "source": [
    "dic_pais = dict(zip(pais,poblacion))"
   ]
  },
  {
   "cell_type": "code",
   "execution_count": 7,
   "id": "428a1ad7-90c3-4d5a-8ba0-ba32d96d4a94",
   "metadata": {},
   "outputs": [
    {
     "data": {
      "text/plain": [
       "{'España': 47,\n",
       " 'Mexico': 128,\n",
       " 'Venezuela': 32,\n",
       " 'Colombia': 50,\n",
       " 'Peru': 33,\n",
       " 'Argentina': 45}"
      ]
     },
     "execution_count": 7,
     "metadata": {},
     "output_type": "execute_result"
    }
   ],
   "source": [
    "dic_pais"
   ]
  },
  {
   "cell_type": "code",
   "execution_count": 10,
   "id": "8f2f1a06-ede0-439d-a1fa-a0f2c8f0f457",
   "metadata": {},
   "outputs": [
    {
     "data": {
      "text/plain": [
       "128"
      ]
     },
     "execution_count": 10,
     "metadata": {},
     "output_type": "execute_result"
    }
   ],
   "source": [
    "dic_pais[\"Mexico\"]"
   ]
  },
  {
   "cell_type": "code",
   "execution_count": null,
   "id": "a4c94c88-ac9a-4864-b1ed-2615388ebdeb",
   "metadata": {},
   "outputs": [],
   "source": []
  },
  {
   "cell_type": "code",
   "execution_count": null,
   "id": "6681e118-e20a-41a4-83a9-d9d2c81db432",
   "metadata": {},
   "outputs": [],
   "source": []
  }
 ],
 "metadata": {
  "kernelspec": {
   "display_name": "Python 3 (ipykernel)",
   "language": "python",
   "name": "python3"
  },
  "language_info": {
   "codemirror_mode": {
    "name": "ipython",
    "version": 3
   },
   "file_extension": ".py",
   "mimetype": "text/x-python",
   "name": "python",
   "nbconvert_exporter": "python",
   "pygments_lexer": "ipython3",
   "version": "3.12.7"
  }
 },
 "nbformat": 4,
 "nbformat_minor": 5
}
