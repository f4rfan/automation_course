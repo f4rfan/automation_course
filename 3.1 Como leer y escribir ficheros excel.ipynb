{
 "cells": [
  {
   "cell_type": "code",
   "execution_count": 1,
   "id": "ac76d2ce-6c57-4a05-8996-69a23e4f0e25",
   "metadata": {},
   "outputs": [],
   "source": [
    "import openpyxl"
   ]
  },
  {
   "cell_type": "markdown",
   "id": "66b7da33-6ec2-426b-8777-d81719a020c0",
   "metadata": {},
   "source": [
    "### Lectura"
   ]
  },
  {
   "cell_type": "code",
   "execution_count": 4,
   "id": "fa69b8b3-1f58-441e-b348-f63aaf772e04",
   "metadata": {},
   "outputs": [],
   "source": [
    "libro = openpyxl.load_workbook(\"../Datasets+IPA/Distrito_poblacion.xlsx\")"
   ]
  },
  {
   "cell_type": "code",
   "execution_count": 5,
   "id": "b0b5dee1-6a7e-4b44-98f6-b0e32c57c59d",
   "metadata": {},
   "outputs": [
    {
     "data": {
      "text/plain": [
       "['Distrito_poblacion']"
      ]
     },
     "execution_count": 5,
     "metadata": {},
     "output_type": "execute_result"
    }
   ],
   "source": [
    "libro.sheetnames"
   ]
  },
  {
   "cell_type": "code",
   "execution_count": 6,
   "id": "8c61913a-f01c-41de-8a71-605e6d850a96",
   "metadata": {},
   "outputs": [],
   "source": [
    "pestaña = libro['Distrito_poblacion']"
   ]
  },
  {
   "cell_type": "code",
   "execution_count": 12,
   "id": "f86c60a3-587b-4ead-b27d-e5c997dcdef0",
   "metadata": {},
   "outputs": [
    {
     "data": {
      "text/plain": [
       "137401"
      ]
     },
     "execution_count": 12,
     "metadata": {},
     "output_type": "execute_result"
    }
   ],
   "source": [
    "pestaña[\"B4\"].value"
   ]
  },
  {
   "cell_type": "code",
   "execution_count": 8,
   "id": "65960836-c8da-471c-b2d3-819e1e6bd3d5",
   "metadata": {},
   "outputs": [
    {
     "data": {
      "text/plain": [
       "'Arganzuela'"
      ]
     },
     "execution_count": 8,
     "metadata": {},
     "output_type": "execute_result"
    }
   ],
   "source": [
    "pestaña.cell(row=2,column=1).value"
   ]
  },
  {
   "cell_type": "code",
   "execution_count": 13,
   "id": "79a68987-2b2b-4a70-a70e-3a98ac403a0a",
   "metadata": {},
   "outputs": [
    {
     "name": "stdout",
     "output_type": "stream",
     "text": [
      "Población_Distrito\n",
      "151965\n",
      "149718\n",
      "137401\n",
      "116903\n"
     ]
    }
   ],
   "source": [
    "for i in range(1,6):\n",
    "    print(pestaña.cell(row=i,column=2).value)"
   ]
  },
  {
   "cell_type": "markdown",
   "id": "db2e6f9b-8496-4a7f-be48-a678cb230ac1",
   "metadata": {},
   "source": [
    "### Escritura"
   ]
  },
  {
   "cell_type": "code",
   "execution_count": 14,
   "id": "5bf555c0-f0a0-4729-8dde-b8ec59aba7e5",
   "metadata": {},
   "outputs": [],
   "source": [
    "pestaña[\"C1\"] = \"Ranking\""
   ]
  },
  {
   "cell_type": "code",
   "execution_count": 15,
   "id": "42e4d3c8-fd39-4b48-8b9e-ae4cc9b101a2",
   "metadata": {},
   "outputs": [],
   "source": [
    "pestaña2 = libro.create_sheet(title=\"Nueva pestaña\")"
   ]
  },
  {
   "cell_type": "code",
   "execution_count": 16,
   "id": "9714c797-75cb-4cd9-a7ee-10649019f526",
   "metadata": {},
   "outputs": [],
   "source": [
    "libro.save(\"../Datasets+IPA/Distrito_poblacion_v2.xlsx\")"
   ]
  },
  {
   "cell_type": "code",
   "execution_count": null,
   "id": "81b09a4e-2912-4650-9851-4778093bf9a8",
   "metadata": {},
   "outputs": [],
   "source": []
  }
 ],
 "metadata": {
  "kernelspec": {
   "display_name": "Python 3 (ipykernel)",
   "language": "python",
   "name": "python3"
  },
  "language_info": {
   "codemirror_mode": {
    "name": "ipython",
    "version": 3
   },
   "file_extension": ".py",
   "mimetype": "text/x-python",
   "name": "python",
   "nbconvert_exporter": "python",
   "pygments_lexer": "ipython3",
   "version": "3.12.7"
  }
 },
 "nbformat": 4,
 "nbformat_minor": 5
}
